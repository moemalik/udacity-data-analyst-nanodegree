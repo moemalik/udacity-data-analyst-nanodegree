{
 "cells": [
  {
   "cell_type": "markdown",
   "metadata": {},
   "source": [
    "# Introduction: The Stroop Effect"
   ]
  },
  {
   "cell_type": "markdown",
   "metadata": {},
   "source": [
    "For this project, we want to take a look at a dataset of people who have participated in a Stroop Effect Test. \n",
    "\n",
    "The Stroop Effect is the degree of difficulty people face when attempting to say the color of a word but the word itself displays the name of a different color. \n",
    "\n",
    "For example: Let's say someone was tasked with stating what the color of a group of words were. If each word was the name of the very color that they were printed in - i.e. the word 'Blue' is actually blue, the word 'Red' is printed in red, and so on - they will have virtually no issues saying the color.\n",
    "\n",
    "However, if the words themselves displayed a name of a color that is not the color it was printed in - i.e. 'Blue' is in green, 'Red' is in purple - then participants will have a slight delay when attempting to say the name of the word's color. This phenomenon - the delay in reaction time when the words don't match the color - is the Stroop Effect.\n",
    "\n"
   ]
  },
  {
   "cell_type": "markdown",
   "metadata": {},
   "source": [
    "## Congruent Example (matching between word and color)"
   ]
  },
  {
   "cell_type": "code",
   "execution_count": 2,
   "metadata": {
    "collapsed": false
   },
   "outputs": [
    {
     "data": {
      "text/html": [
       "<img src=\"http://i.imgur.com/UrJP4BP.jpg\"/>"
      ],
      "text/plain": [
       "<IPython.core.display.Image object>"
      ]
     },
     "execution_count": 2,
     "metadata": {},
     "output_type": "execute_result"
    }
   ],
   "source": [
    "from IPython.display import Image\n",
    "Image(url='http://i.imgur.com/UrJP4BP.jpg')"
   ]
  },
  {
   "cell_type": "markdown",
   "metadata": {},
   "source": [
    "## Incongruent Example (no match between word and color)"
   ]
  },
  {
   "cell_type": "code",
   "execution_count": 3,
   "metadata": {
    "collapsed": false
   },
   "outputs": [
    {
     "data": {
      "text/html": [
       "<img src=\"http://i.imgur.com/HKc0num.jpg\"/>"
      ],
      "text/plain": [
       "<IPython.core.display.Image object>"
      ]
     },
     "execution_count": 3,
     "metadata": {},
     "output_type": "execute_result"
    }
   ],
   "source": [
    "from IPython.display import Image\n",
    "Image(url='http://i.imgur.com/HKc0num.jpg')"
   ]
  },
  {
   "cell_type": "markdown",
   "metadata": {},
   "source": [
    "Named after John Ridley Stroop, Stroop's 1935 study had discovered participants took a significantly longer time to read the color's name when looking at the incongruent group compared to the congruent. We will test for this phenomenon ourselves with a dataset of test scores from a Stroop Effect test."
   ]
  },
  {
   "cell_type": "markdown",
   "metadata": {},
   "source": [
    "# Hypotheses and Statistical Test Selection"
   ]
  },
  {
   "cell_type": "markdown",
   "metadata": {},
   "source": [
    "For this project, we'll be performing a **dependent t-test for paired samples**. \n",
    "\n",
    "The assumption we're making by using this test is that the distribution of the population is normal.\n",
    "\n",
    "This is an appropriate test as we'll be comparing the means of two related groups. As this is a within-subject statistical test, the participants involved are being tested more than once - measuring their Stroop Test completion time first with the congruent group, and then next with the incongruent group. Additionally, we do not know the standard deviation of the population and have a sample size less than 30.\n",
    "\n",
    "Our **independent variable** is the group type (congruent or incongruent), and the **dependent variable** is the Stroop Test completion time. \n",
    "\n",
    "**H0: MuC = MuI**\n",
    "\n",
    "**HA: MuC =/= MuI**\n",
    "\n",
    "The null hypothesis (H0) is the population mean for the congruent group completion times (MuC) will be approximately equal to the population mean for the incongruent group completion times (MuI). The alternative hypothesis (HA) is the population time for the congruent group completion times will be significantly different from the incongruent group completion times."
   ]
  },
  {
   "cell_type": "markdown",
   "metadata": {},
   "source": [
    "# Descriptive Statistics"
   ]
  },
  {
   "cell_type": "markdown",
   "metadata": {},
   "source": [
    "We'll do some quick statistical analysis on the dataset of test scores to better understand our data."
   ]
  },
  {
   "cell_type": "code",
   "execution_count": 5,
   "metadata": {
    "collapsed": true
   },
   "outputs": [],
   "source": [
    "import pandas as pd"
   ]
  },
  {
   "cell_type": "code",
   "execution_count": 6,
   "metadata": {
    "collapsed": true
   },
   "outputs": [],
   "source": [
    "stroop = pd.read_csv('stroopdata.csv')"
   ]
  },
  {
   "cell_type": "markdown",
   "metadata": {},
   "source": [
    "Now that we've loaded the data into a DataFrame, let's use .head() to get a quick glimpse of the first top five rows."
   ]
  },
  {
   "cell_type": "code",
   "execution_count": 7,
   "metadata": {
    "collapsed": false
   },
   "outputs": [
    {
     "data": {
      "text/html": [
       "<div>\n",
       "<table border=\"1\" class=\"dataframe\">\n",
       "  <thead>\n",
       "    <tr style=\"text-align: right;\">\n",
       "      <th></th>\n",
       "      <th>Congruent</th>\n",
       "      <th>Incongruent</th>\n",
       "    </tr>\n",
       "  </thead>\n",
       "  <tbody>\n",
       "    <tr>\n",
       "      <th>0</th>\n",
       "      <td>12.079</td>\n",
       "      <td>19.278</td>\n",
       "    </tr>\n",
       "    <tr>\n",
       "      <th>1</th>\n",
       "      <td>16.791</td>\n",
       "      <td>18.741</td>\n",
       "    </tr>\n",
       "    <tr>\n",
       "      <th>2</th>\n",
       "      <td>9.564</td>\n",
       "      <td>21.214</td>\n",
       "    </tr>\n",
       "    <tr>\n",
       "      <th>3</th>\n",
       "      <td>8.630</td>\n",
       "      <td>15.687</td>\n",
       "    </tr>\n",
       "    <tr>\n",
       "      <th>4</th>\n",
       "      <td>14.669</td>\n",
       "      <td>22.803</td>\n",
       "    </tr>\n",
       "  </tbody>\n",
       "</table>\n",
       "</div>"
      ],
      "text/plain": [
       "   Congruent  Incongruent\n",
       "0     12.079       19.278\n",
       "1     16.791       18.741\n",
       "2      9.564       21.214\n",
       "3      8.630       15.687\n",
       "4     14.669       22.803"
      ]
     },
     "execution_count": 7,
     "metadata": {},
     "output_type": "execute_result"
    }
   ],
   "source": [
    "stroop.head()"
   ]
  },
  {
   "cell_type": "markdown",
   "metadata": {},
   "source": [
    "So we have two columns. The columns are 'Congruent' and 'Incongruent' and contain the completion times for the test for each group. The completion times are measured in seconds. The row break down is by participant. "
   ]
  },
  {
   "cell_type": "markdown",
   "metadata": {},
   "source": [
    "Now we can use .describe on the data to see some statistical figures, including mean and standard deviation"
   ]
  },
  {
   "cell_type": "code",
   "execution_count": 9,
   "metadata": {
    "collapsed": false
   },
   "outputs": [
    {
     "data": {
      "text/html": [
       "<div>\n",
       "<table border=\"1\" class=\"dataframe\">\n",
       "  <thead>\n",
       "    <tr style=\"text-align: right;\">\n",
       "      <th></th>\n",
       "      <th>Congruent</th>\n",
       "      <th>Incongruent</th>\n",
       "    </tr>\n",
       "  </thead>\n",
       "  <tbody>\n",
       "    <tr>\n",
       "      <th>count</th>\n",
       "      <td>24.000000</td>\n",
       "      <td>24.000000</td>\n",
       "    </tr>\n",
       "    <tr>\n",
       "      <th>mean</th>\n",
       "      <td>14.051125</td>\n",
       "      <td>22.015917</td>\n",
       "    </tr>\n",
       "    <tr>\n",
       "      <th>std</th>\n",
       "      <td>3.559358</td>\n",
       "      <td>4.797057</td>\n",
       "    </tr>\n",
       "    <tr>\n",
       "      <th>min</th>\n",
       "      <td>8.630000</td>\n",
       "      <td>15.687000</td>\n",
       "    </tr>\n",
       "    <tr>\n",
       "      <th>25%</th>\n",
       "      <td>11.895250</td>\n",
       "      <td>18.716750</td>\n",
       "    </tr>\n",
       "    <tr>\n",
       "      <th>50%</th>\n",
       "      <td>14.356500</td>\n",
       "      <td>21.017500</td>\n",
       "    </tr>\n",
       "    <tr>\n",
       "      <th>75%</th>\n",
       "      <td>16.200750</td>\n",
       "      <td>24.051500</td>\n",
       "    </tr>\n",
       "    <tr>\n",
       "      <th>max</th>\n",
       "      <td>22.328000</td>\n",
       "      <td>35.255000</td>\n",
       "    </tr>\n",
       "  </tbody>\n",
       "</table>\n",
       "</div>"
      ],
      "text/plain": [
       "       Congruent  Incongruent\n",
       "count  24.000000    24.000000\n",
       "mean   14.051125    22.015917\n",
       "std     3.559358     4.797057\n",
       "min     8.630000    15.687000\n",
       "25%    11.895250    18.716750\n",
       "50%    14.356500    21.017500\n",
       "75%    16.200750    24.051500\n",
       "max    22.328000    35.255000"
      ]
     },
     "execution_count": 9,
     "metadata": {},
     "output_type": "execute_result"
    }
   ],
   "source": [
    "stroop.describe()"
   ]
  },
  {
   "cell_type": "markdown",
   "metadata": {},
   "source": [
    "Here are quick takeaways from the output:\n",
    "\n",
    "1. The mean for Congruent times is 14.05 seconds, while the mean for Incongruent is 22.02. \n",
    "2. Congruent times have a standard deviation of 3.56, and Incongruent times have a standard deviation of 4.80\n",
    "3. Congruent times have a minimum of 8.63 seconds and a maximum of 22.33 seconds, while Incongruent times have a minimum of 15.69 seconds and a maximum of 35.26 seconds.\n",
    "\n",
    "The mean, max, and min clearly illustrate slower completion times for participants when they attempt to read our the colors of the incongruent group of words. But is it significantly slower? We'll find out when we complete the statistical test."
   ]
  },
  {
   "cell_type": "markdown",
   "metadata": {},
   "source": [
    "# Visualizations"
   ]
  },
  {
   "cell_type": "markdown",
   "metadata": {},
   "source": [
    "But before we move on to the statistical test, let's visualize the distribution of the completion times. I'll first import the seaborn package to spruce up the visualizations before creating the plots."
   ]
  },
  {
   "cell_type": "code",
   "execution_count": 61,
   "metadata": {
    "collapsed": true
   },
   "outputs": [],
   "source": [
    "import seaborn as sns"
   ]
  },
  {
   "cell_type": "code",
   "execution_count": 71,
   "metadata": {
    "collapsed": false
   },
   "outputs": [
    {
     "data": {
      "text/plain": [
       "<matplotlib.axes._subplots.AxesSubplot at 0x20b256d3b70>"
      ]
     },
     "execution_count": 71,
     "metadata": {},
     "output_type": "execute_result"
    },
    {
     "data": {
      "image/png": "[encoded data removed]",
      "text/plain": [
       "<matplotlib.figure.Figure at 0x20b256fa080>"
      ]
     },
     "metadata": {},
     "output_type": "display_data"
    }
   ],
   "source": [
    "%matplotlib inline\n",
    "stroop['Congruent'].hist(bins=12)"
   ]
  },
  {
   "cell_type": "code",
   "execution_count": 70,
   "metadata": {
    "collapsed": false
   },
   "outputs": [
    {
     "data": {
      "text/plain": [
       "<matplotlib.axes._subplots.AxesSubplot at 0x20b25669e80>"
      ]
     },
     "execution_count": 70,
     "metadata": {},
     "output_type": "execute_result"
    },
    {
     "data": {
      "image/png": "[encoded data removed]",
      "text/plain": [
       "<matplotlib.figure.Figure at 0x20b256723c8>"
      ]
     },
     "metadata": {},
     "output_type": "display_data"
    }
   ],
   "source": [
    "stroop['Incongruent'].hist(bins=12)"
   ]
  },
  {
   "cell_type": "markdown",
   "metadata": {},
   "source": [
    "Distributions Observations:\n",
    "\n",
    "1. The Incongruent distribution has the data distributed is less bins, meaning the completion times are close to one another in value. The Congruent distribution on the other hand is more spread out in comparison, with six bins having 1 value in them, in comparison to Incongruent's three bins.\n",
    "2. The Incongruent distribution slowest times are much further behind than the second slowest times. It appears as an outlier in comparison to the rest of the dataset. This isn't seen in the Congruent data set, where the slowest time is only a couple seconds away from the second slowest times."
   ]
  },
  {
   "cell_type": "code",
   "execution_count": 63,
   "metadata": {
    "collapsed": false
   },
   "outputs": [
    {
     "data": {
      "text/plain": [
       "<matplotlib.axes._subplots.AxesSubplot at 0x20b24e35a20>"
      ]
     },
     "execution_count": 63,
     "metadata": {},
     "output_type": "execute_result"
    },
    {
     "data": {
      "image/png": "[encoded data removed]",
      "text/plain": [
       "<matplotlib.figure.Figure at 0x20b24c70e80>"
      ]
     },
     "metadata": {},
     "output_type": "display_data"
    }
   ],
   "source": [
    "stroop.plot.scatter(x='Congruent', y='Incongruent')"
   ]
  },
  {
   "cell_type": "markdown",
   "metadata": {},
   "source": [
    "Scatterplot observations:\n",
    "\n",
    "1. Two outliers stand out immediately. In the middle of the datatset, we see there are two instances of participants whose Stroop test completion times for the incongruent group are much slower relative to the relative to the rest of the sample, with times hovering around ~35 seconds. \n",
    "2. There appears to be a weak positive correlation between completion times. "
   ]
  },
  {
   "cell_type": "markdown",
   "metadata": {},
   "source": [
    "It would be interesting to see the distribution of differences between the two test scores for the participants, to see what insights we could gather about to what extent their times slowed down when they were faced with the Incongruent group. Let's create a column that has the differences."
   ]
  },
  {
   "cell_type": "code",
   "execution_count": 28,
   "metadata": {
    "collapsed": true
   },
   "outputs": [],
   "source": [
    "stroop['Difference'] = stroop['Incongruent'] - stroop['Congruent']"
   ]
  },
  {
   "cell_type": "markdown",
   "metadata": {},
   "source": [
    "Let's just use .describe() on the column here so we can gather some insights on the differences."
   ]
  },
  {
   "cell_type": "code",
   "execution_count": 32,
   "metadata": {
    "collapsed": false
   },
   "outputs": [
    {
     "data": {
      "text/plain": [
       "count    24.000000\n",
       "mean      7.964792\n",
       "std       4.864827\n",
       "min       1.950000\n",
       "25%       3.645500\n",
       "50%       7.666500\n",
       "75%      10.258500\n",
       "max      21.919000\n",
       "Name: Difference, dtype: float64"
      ]
     },
     "execution_count": 32,
     "metadata": {},
     "output_type": "execute_result"
    }
   ],
   "source": [
    "stroop['Difference'].describe()"
   ]
  },
  {
   "cell_type": "markdown",
   "metadata": {},
   "source": [
    "Now we can create a distribution of the differences. "
   ]
  },
  {
   "cell_type": "code",
   "execution_count": 64,
   "metadata": {
    "collapsed": false
   },
   "outputs": [
    {
     "data": {
      "text/plain": [
       "<matplotlib.axes._subplots.AxesSubplot at 0x20b24e9aa58>"
      ]
     },
     "execution_count": 64,
     "metadata": {},
     "output_type": "execute_result"
    },
    {
     "data": {
      "image/png": "[encoded data removed]",
      "text/plain": [
       "<matplotlib.figure.Figure at 0x20b24ea4400>"
      ]
     },
     "metadata": {},
     "output_type": "display_data"
    }
   ],
   "source": [
    "stroop['Difference'].hist(bins=12)"
   ]
  },
  {
   "cell_type": "markdown",
   "metadata": {},
   "source": [
    "Difference Distribution Observation:\n",
    "\n",
    "1. It appears most people saw their completion times go up by anywhere from ~3-12 seconds, as most of the distribution lies within this range.\n",
    "\n",
    "2. As the Incongruent distribution and scatterplot illustrated, there are two values here that appear as outliers, with Incongruent completion times increasing as high as 21-22 seconds. "
   ]
  },
  {
   "cell_type": "markdown",
   "metadata": {},
   "source": [
    "# Statistical Test"
   ]
  },
  {
   "cell_type": "markdown",
   "metadata": {},
   "source": [
    "Let us begin our statistical test. For reference, here is the hypotheses we set earlier:\n",
    "\n",
    "Our null hypothesis will be that there will not be a significant difference between participants' times of reading out the colors with either group of words. \n",
    "\n",
    "Our alternative hypothesis is that there will be a significant difference between the completion times of each group. \n",
    "\n",
    "**H0: MuC = MuI**\n",
    "\n",
    "**HA: MuC =/= MuI**\n",
    "\n",
    "Please note that the \"C\" refers to the Congruent group completion times, and the I refers to the Incongruent group completion times."
   ]
  },
  {
   "cell_type": "markdown",
   "metadata": {},
   "source": [
    "First, let's outline the details of the test. This will be a **two-tailed test** with a **confidence level of 0.05**. The t-critical at that confidence level is **2.069.**"
   ]
  },
  {
   "cell_type": "markdown",
   "metadata": {},
   "source": [
    "Let's calculate the mean completion times for the Congruent and Incongruent columns respectively and set them to variables."
   ]
  },
  {
   "cell_type": "code",
   "execution_count": 33,
   "metadata": {
    "collapsed": true
   },
   "outputs": [],
   "source": [
    "CongruentMean = stroop['Congruent'].mean()\n",
    "IncongruentMean = stroop['Incongruent'].mean()"
   ]
  },
  {
   "cell_type": "code",
   "execution_count": 38,
   "metadata": {
    "collapsed": false
   },
   "outputs": [
    {
     "name": "stdout",
     "output_type": "stream",
     "text": [
      "The mean participants' Stroop test completion time for the Congruent group is 14.051125000000004\n",
      "The mean participants' Stroop test completion time for the Incongruent group is 22.01591666666667\n"
     ]
    }
   ],
   "source": [
    "print(\"The mean participants' Stroop test completion time for the Congruent group is\", CongruentMean)\n",
    "print(\"The mean participants' Stroop test completion time for the Incongruent group is\", IncongruentMean)"
   ]
  },
  {
   "cell_type": "markdown",
   "metadata": {},
   "source": [
    "Now let's calculate the point estimate for the difference in completion times."
   ]
  },
  {
   "cell_type": "code",
   "execution_count": 41,
   "metadata": {
    "collapsed": true
   },
   "outputs": [],
   "source": [
    "DifferenceMean = IncongruentMean - CongruentMean"
   ]
  },
  {
   "cell_type": "code",
   "execution_count": 42,
   "metadata": {
    "collapsed": false
   },
   "outputs": [
    {
     "name": "stdout",
     "output_type": "stream",
     "text": [
      "Our point estimate is 7.964791666666665\n"
     ]
    }
   ],
   "source": [
    "print(\"Our point estimate is\", DifferenceMean)"
   ]
  },
  {
   "cell_type": "markdown",
   "metadata": {},
   "source": [
    "Up next, we'll need to calculate the Sample Standard Deviation of the differences in completion times between the Congruent group and the Incongruent group."
   ]
  },
  {
   "cell_type": "code",
   "execution_count": 43,
   "metadata": {
    "collapsed": true
   },
   "outputs": [],
   "source": [
    "DifferenceSD = stroop['Difference'].std()"
   ]
  },
  {
   "cell_type": "code",
   "execution_count": 44,
   "metadata": {
    "collapsed": false
   },
   "outputs": [
    {
     "name": "stdout",
     "output_type": "stream",
     "text": [
      "Our sample standard deviation is 4.864826910359056\n"
     ]
    }
   ],
   "source": [
    "print(\"Our sample standard deviation is\", DifferenceSD)"
   ]
  },
  {
   "cell_type": "markdown",
   "metadata": {},
   "source": [
    "Now we'll need to calculate the Standard Error, as we'll need the value in order to calculate the t-Statistic afterwards."
   ]
  },
  {
   "cell_type": "markdown",
   "metadata": {},
   "source": [
    "We need the sample size first. Let's use .count() on a column in stroop to find the sample size."
   ]
  },
  {
   "cell_type": "code",
   "execution_count": 55,
   "metadata": {
    "collapsed": false
   },
   "outputs": [],
   "source": [
    "samplesize = stroop['Congruent'].count() #24 is the sample size"
   ]
  },
  {
   "cell_type": "code",
   "execution_count": 56,
   "metadata": {
    "collapsed": false,
    "scrolled": true
   },
   "outputs": [
    {
     "name": "stdout",
     "output_type": "stream",
     "text": [
      "The sample size is 24\n"
     ]
    }
   ],
   "source": [
    "print(\"The sample size is\", samplesize)"
   ]
  },
  {
   "cell_type": "markdown",
   "metadata": {},
   "source": [
    "Since we'll need to take the square root of the sample size in order to calculate the Standard Error, we'll need to import math so we can use the math.sqrt() function."
   ]
  },
  {
   "cell_type": "code",
   "execution_count": 47,
   "metadata": {
    "collapsed": true
   },
   "outputs": [],
   "source": [
    "import math"
   ]
  },
  {
   "cell_type": "markdown",
   "metadata": {},
   "source": [
    "Now we have what we need to calculate the Standard Error."
   ]
  },
  {
   "cell_type": "code",
   "execution_count": 57,
   "metadata": {
    "collapsed": true
   },
   "outputs": [],
   "source": [
    "StandardError = DifferenceSD/math.sqrt(samplesize)"
   ]
  },
  {
   "cell_type": "code",
   "execution_count": 58,
   "metadata": {
    "collapsed": false
   },
   "outputs": [
    {
     "name": "stdout",
     "output_type": "stream",
     "text": [
      "The Standard Error is 0.9930286347783406\n"
     ]
    }
   ],
   "source": [
    "print(\"The Standard Error is\", StandardError)"
   ]
  },
  {
   "cell_type": "markdown",
   "metadata": {},
   "source": [
    "Great! Now we have everything we need to calculate the t-statistic. "
   ]
  },
  {
   "cell_type": "code",
   "execution_count": 59,
   "metadata": {
    "collapsed": true
   },
   "outputs": [],
   "source": [
    "tstat = DifferenceMean/StandardError"
   ]
  },
  {
   "cell_type": "code",
   "execution_count": 60,
   "metadata": {
    "collapsed": false
   },
   "outputs": [
    {
     "name": "stdout",
     "output_type": "stream",
     "text": [
      "Our t-statistic is 8.020706944109955\n"
     ]
    }
   ],
   "source": [
    "print(\"Our t-statistic is\", tstat)"
   ]
  },
  {
   "cell_type": "markdown",
   "metadata": {},
   "source": [
    "At a confidence level of 0.05 and a t-critical of 2.069, a t-statistic of 8.02 indicates there is a significant difference in completion times of the Stroop Test between the two groups. Thus, we reject the null hypothesis in favor of the alternative. "
   ]
  },
  {
   "cell_type": "markdown",
   "metadata": {},
   "source": [
    "# Conclusion"
   ]
  },
  {
   "cell_type": "markdown",
   "metadata": {},
   "source": [
    "We can conclude that the time it takes for a participant to name the colors of a group of words will be significantly increased if the words themselves are spelling out the name of a different color entirely. This is consistent with the scientific findings of the Stroop Effect phenomenon. \n",
    "\n",
    "As for why this is the case, studies point towards the difference in the brain's cognitive effort between reading and declaring a color. Reading is more effortless of a task due to how frequent reading is in peoples' lives, but declaring a color requires more effort. The moment the two tasks come into conflict, as they do for participants when being tested with the incongruent group, then the task of declaring the color takes even longer as the brain has to resolve the conflicted information (color of the word not matching what the word actually says).\n",
    "\n",
    "There are alternative test examples that could also convey the Stroop Effect phenomenon. You can throw in shapes into the color and word mix to add another layer of difficulty."
   ]
  },
  {
   "cell_type": "code",
   "execution_count": 4,
   "metadata": {
    "collapsed": false
   },
   "outputs": [
    {
     "data": {
      "text/html": [
       "<img src=\"http://i.imgur.com/Yd4YbCH.png\"/>"
      ],
      "text/plain": [
       "<IPython.core.display.Image object>"
      ]
     },
     "execution_count": 4,
     "metadata": {},
     "output_type": "execute_result"
    }
   ],
   "source": [
    "from IPython.display import Image\n",
    "Image(url='http://i.imgur.com/Yd4YbCH.png')"
   ]
  },
  {
   "cell_type": "markdown",
   "metadata": {},
   "source": [
    "The above is how the incongruent group would look like if shapes were involved as well. For example, the first object is what clearly appears to be a red circle. But the words attached say \"Blue square.\" The participant would have to deal with a similar conflict from the test before, but also take into account that the text is telling them it's a different shape than what it actually is. "
   ]
  },
  {
   "cell_type": "markdown",
   "metadata": {},
   "source": [
    "----------------------------------------------------------------------------------------------------"
   ]
  },
  {
   "cell_type": "markdown",
   "metadata": {},
   "source": [
    "Sources:\n",
    "\n",
    "1. http://www.psytoolkit.org/lessons/stroop.html\n",
    "2. http://psychclassics.yorku.ca/Stroop/\n",
    "3. https://imotions.com/blog/the-stroop-effect/\n",
    "4. http://learn.genetics.utah.edu/content/memory/demos/images/strooptest.jpg\n",
    "5. https://s-media-cache-ak0.pinimg.com/originals/21/9d/f5/219df5c1f412a2aa79ec5d67a0b21943.gif"
   ]
  }
 ],
 "metadata": {
  "anaconda-cloud": {},
  "kernelspec": {
   "display_name": "Python [conda root]",
   "language": "python",
   "name": "conda-root-py"
  },
  "language_info": {
   "codemirror_mode": {
    "name": "ipython",
    "version": 3
   },
   "file_extension": ".py",
   "mimetype": "text/x-python",
   "name": "python",
   "nbconvert_exporter": "python",
   "pygments_lexer": "ipython3",
   "version": "3.5.2"
  }
 },
 "nbformat": 4,
 "nbformat_minor": 2
}
