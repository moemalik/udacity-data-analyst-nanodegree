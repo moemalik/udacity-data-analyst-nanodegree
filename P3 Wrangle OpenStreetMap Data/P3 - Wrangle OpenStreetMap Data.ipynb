{
 "cells": [
  {
   "cell_type": "markdown",
   "metadata": {},
   "source": [
    "## Introduction: Map Selection"
   ]
  },
  {
   "cell_type": "markdown",
   "metadata": {},
   "source": [
    "For this project, I decided to analyze OpenStreetMap data for a portion of **Los Angeles, California**. Specifically, I wanted to look a look at what is known as the Beach Cities, which is an area in Los Angeles' South Bay region. The Beach Cities include:\n",
    "\n",
    "    1. Manhattan Beach\n",
    "    2. Hermosa Beach\n",
    "    3. Redondo Beach\n",
    "\n",
    "And depending on who you're talking to, the area also includes:\n",
    "\n",
    "    4. El Segundo\n",
    "    5. Torrance\n",
    "    \n",
    "Torrance, California is the closest thing I have to a hometown in the US as I lived there for a good chunk of my childhood, so I was keen to take a look at it in this new, OpenStreetMap-based lens.  \n",
    "    \n",
    "I had to create a custom extract for the area. It can be found here on Mapzen:\n",
    "\n",
    "- https://mapzen.com/data/metro-extracts/your-extracts/dc1c24eaf6d1\n",
    "\n",
    "Below is a visual of the area of Los Angeles I extracted:"
   ]
  },
  {
   "cell_type": "code",
   "execution_count": 1,
   "metadata": {
    "collapsed": false
   },
   "outputs": [
    {
     "data": {
      "text/html": [
       "<img src=\"http://i.imgur.com/M39vzki.png\"/>"
      ],
      "text/plain": [
       "<IPython.core.display.Image object>"
      ]
     },
     "execution_count": 1,
     "metadata": {},
     "output_type": "execute_result"
    }
   ],
   "source": [
    "from IPython.display import Image\n",
    "Image(url='http://i.imgur.com/M39vzki.png')"
   ]
  },
  {
   "cell_type": "markdown",
   "metadata": {},
   "source": [
    "## Problems Encountered in the Map"
   ]
  },
  {
   "cell_type": "markdown",
   "metadata": {},
   "source": [
    "Once the location was decided, I downloaded the full extract of the region and ran Python code to investigate any issues with the data. The following problems were discovered:\n",
    "\n",
    "- **Street Names**: Incomplete ('Van Ness ___') or incorrect names ('Del Amo Blvd Apt #B'), along with street abbreviations ('Ave.' instead of 'Avenue')\n",
    "\n",
    "- **Phone Numbers**: Inconsistent phone number formats ('(310) 217-9915' and '001 310-7927270')\n",
    "\n",
    "- **Postal Codes**: Inconsistent postal code formats ('90277' and '90277-5906') and incorrect post codes ('CA 90260')\n",
    "\n",
    "To tackle these issues, I had to create python scripts to clean each respective category of data. "
   ]
  },
  {
   "cell_type": "markdown",
   "metadata": {},
   "source": [
    "### Street Names"
   ]
  },
  {
   "cell_type": "markdown",
   "metadata": {},
   "source": [
    "There are two things the auditing function needed to accomplish:\n",
    "\n",
    "- Replace any abbreviations of street types with the type completely spelled out. \n",
    "\n",
    "        1. 'Hawthorne Blvd' -> 'Hawthorne Boulevard'\n",
    "        2. 'Prospect Ave.' -> 'Prospect Avenue'\n",
    "    \n",
    "- Replace incorrect or incomplete street names with the corrected/complete counterparts.\n",
    "\n",
    "        3. 'Hindry' -> 'Hindry Avenue'\n",
    "        4. 'S Pacific Coast Hwy #102' -> 'S Pacific Coast Highway'\n",
    "\n",
    "In order to discover problematic street names, I first had to use the regular expression (re) module to locate street types at the end of an address."
   ]
  },
  {
   "cell_type": "code",
   "execution_count": null,
   "metadata": {
    "collapsed": true
   },
   "outputs": [],
   "source": [
    "street_type_re = re.compile(r'\\b\\S+\\.?$', re.IGNORECASE)\n",
    "\n",
    "m = street_type_re.search(street_name)"
   ]
  },
  {
   "cell_type": "markdown",
   "metadata": {},
   "source": [
    "Afterwards, I matched them against a list of acceptable street types. If they weren't in the list of expected types, they would be added to a dictionary as keys, with the addresses that contain the problematic cases as the values - i.e. \"{'Blvd': ('Crenshaw Blvd', 'Artesia Blvd')}. \n",
    "\n",
    "Having this overview allowed me to determine what my auditing function needed to accomplish. I created two dictionaries for mapping/correcting purposes - 'mapping' for regular mistakes and 'unusual' for incorrect/incomplete street names. If my function came across a problematic street type, it would refer to either of the dictionaries for the corrected version to be replaced with.\n",
    "\n",
    "An analysis of the XML data, along with outside research on Google Maps and OpenStreetMaps, was needed to identify the missing street types for the incomplete street names.\n",
    "\n",
    "Below is a snippet of the auditing function."
   ]
  },
  {
   "cell_type": "code",
   "execution_count": null,
   "metadata": {
    "collapsed": false
   },
   "outputs": [],
   "source": [
    "#Function that cleans a given street name\n",
    "def update_name(name, mapping, unusual):\n",
    "    m = street_type_re.search(name) #Searches for whatever is at the end of a given address,\n",
    "    #which is expected to be the street type\n",
    "    \n",
    "    street_type = m.group() #Allows us grab and work with the street type found\n",
    "    \n",
    "    if street_type not in expected: #If not one of the expected/acceptable street types, then move on towards cleaning\n",
    "        \n",
    "        if street_type not in mapping: #If not one of the standard abbrevation errors, \n",
    "            #then refer to 'unusual' dictionary for the replacement address\n",
    "            name = unusual[street_type]\n",
    "            \n",
    "        else:\n",
    "            corrected_street_type = mapping[street_type] #Refer to the 'mapping' dictionary for the correct street type\n",
    "            name = name.replace(street_type, corrected_street_type) #Replace the abbreviated street type in the address \n",
    "            #with the correct street type\n",
    "        \n",
    "    return name"
   ]
  },
  {
   "cell_type": "markdown",
   "metadata": {},
   "source": [
    "### Phone Numbers"
   ]
  },
  {
   "cell_type": "markdown",
   "metadata": {},
   "source": [
    "I wanted a uniform format across all phone numbers. The standard I'd like to work with is the standard I usually come across for phone numbers in the US: \n",
    "\n",
    "- [Area Code] - [First 3 Numbers] - [Last 4 Numbers]. \n",
    "- For example, 310-212-7143. \n",
    "\n",
    "Example conversions:\n",
    "\n",
    "    1. +1 310-416-9937 --> 310-416-9937\n",
    "    2. 001 310-7927270 --> 310-792-7270\n",
    "    \n",
    "To track down any problems with the phone numbers in the dataset, I used a function that would search through the XML data for every instance of a phone number, and add it to a set of unique phone numbers. Taking a look at the set of phone numbers made it clear there were inconsistencies in formatting that the audit function would need to address.\n",
    "\n",
    "The code for standardizing the phone format is below."
   ]
  },
  {
   "cell_type": "code",
   "execution_count": null,
   "metadata": {
    "collapsed": true
   },
   "outputs": [],
   "source": [
    "#Function that reformats a given phone number\n",
    "def update_phone_num(phone_num):\n",
    "    \n",
    "    phone_num = re.sub(\"[-+() ]\", \"\", phone_num) #Removes any instance of the included characters - \"-\", \"+\", \"(\", \")\", and \n",
    "    #blank spaces\n",
    "    \n",
    "    if len(phone_num) > 10: #Some numbers end up being greater than 10 characters due to country codes. This ensures we \n",
    "        #grab just the area code + number when that happens.\n",
    "        phone_num = phone_num[-10:]\n",
    "\n",
    "    return phone_num[0:3] + \"-\" + phone_num[3:6] + \"-\" + phone_num[6:] #The decided format for the numbers"
   ]
  },
  {
   "cell_type": "markdown",
   "metadata": {},
   "source": [
    "### Postal Codes"
   ]
  },
  {
   "cell_type": "markdown",
   "metadata": {},
   "source": [
    "The cleaning required for postal codes was straight forward as there were only a handful of problematic cases:\n",
    "\n",
    "- Ensure the zip codes are in the 5-digit format\n",
    "- To locate and extract the 5-digit zip code in cases where there are irrelevant or too much information - i.e. random white spaces or an additional four numbers after the zip code.\n",
    "\n",
    "Example conversions:\n",
    "\n",
    "    1. 90277-5906 --> 90277 \n",
    "    2. CA 90620 --> 90620\n",
    "    \n",
    "To identify problems with postal codes, I used a function that would search through the XML data for every instance of a postal code, and add it to a set of unique postal codes. Again, I discovered formatting issues that needed to be addressed with the audit function.\n",
    "\n",
    "The audit function can be found below."
   ]
  },
  {
   "cell_type": "code",
   "execution_count": null,
   "metadata": {
    "collapsed": true
   },
   "outputs": [],
   "source": [
    "#Function that locates and extracts 5-digit zip codes\n",
    "def update_postal_code(postalcode):\n",
    "    loc = postalcode.find(\"90\") #Outputs the index location of '90. '90' is chosen as every zip begins with '90'.\n",
    "    #This allows us to locate the zip code in cases where there is other information included we wouldn't need.\n",
    "    postalcode = postalcode[loc:loc+5] #Returns strictly the zip code by returning '90' + the following 3 digits\n",
    "    \n",
    "    return postalcode"
   ]
  },
  {
   "cell_type": "markdown",
   "metadata": {},
   "source": [
    "##  Parsing the XML File and Writing the Data to a CSV"
   ]
  },
  {
   "cell_type": "markdown",
   "metadata": {},
   "source": [
    "In order to begin moving our data towards a SQL database for analysis, I first had to parse the XML file and transform it from a document format to a tabular format. I was then able to write the data across multiple (5) .csv files, allowing us to easily import it to a SQL database. It is in this script where the data cleaning functions are applied.\n",
    "\n",
    "Below is a snippet of the data. I'll specifically highlight a portion of the shape_element function, which handles the bulk of the format shaping and utilizes the audit functions I displayed above to clean the data as well. This portion focuses on shaping way_tags and nodes_tags from the XML file into a Python dictionary."
   ]
  },
  {
   "cell_type": "code",
   "execution_count": null,
   "metadata": {
    "collapsed": true
   },
   "outputs": [],
   "source": [
    "# Clean and shape node or way XML element to Python dict\n",
    "def shape_element(element, node_attr_fields=NODE_FIELDS, way_attr_fields=WAY_FIELDS,\n",
    "                  problem_chars=PROBLEMCHARS, default_tag_type='regular'):\n",
    "\n",
    "    for tag in element.iter('tag'):\n",
    "        dictag = {}\n",
    "        dictag['id'] = element.attrib['id']\n",
    "        if \":\" in tag.attrib['k']:\n",
    "            keysplit = re.split(\":\",tag.attrib[\"k\"],1)\n",
    "            dictag['key'] = keysplit[1]\n",
    "            if dictag['key'] == 'street':\n",
    "                dictag['value'] = update_name(tag.attrib['v'], mapping, unusual)\n",
    "            elif dictag['key'] == 'phone':\n",
    "                dictag['value'] = update_phone_num(tag.attrib['v'])\n",
    "            elif dictag['key'] == 'postcode':\n",
    "                dictag['value'] = update_postal_code(tag.attrib['v'])\n",
    "            else:\n",
    "                dictag['value'] = tag.attrib['v']\n",
    "            dictag['type'] = keysplit[0]\n",
    "        ...\n",
    "        tags.append(dictag)"
   ]
  },
  {
   "cell_type": "markdown",
   "metadata": {},
   "source": [
    "##  Importing CSV Files to SQL Database"
   ]
  },
  {
   "cell_type": "markdown",
   "metadata": {},
   "source": [
    "With the CSV files written, I was able to begin the process of importing the data into a SQL database. In my case, I used SQLite 3 via my computer's command line. There are two steps I needed to accomplish to complete this task:\n",
    "\n",
    "- Create five tables on sqlite based on a schema that matches their respective .csv files\n",
    "- Import each .csv file into the appropriate  table"
   ]
  },
  {
   "cell_type": "markdown",
   "metadata": {},
   "source": [
    "##  Connecting to the Database and Executing Queries Through a Python Function"
   ]
  },
  {
   "cell_type": "markdown",
   "metadata": {},
   "source": [
    "In order to write and execute SQL queries in python, I had to import the sqlite3 library. Then, as I knew I would be making several queries moving forward, I created a function (*sqldata*) that allows me to establish a connection to my database (*p3.db*), execute a query, and then close the connection. I imported the pandas library and included the *read_sql_query()* function so the output from a given query will be in the form of a Pandas DataFrame."
   ]
  },
  {
   "cell_type": "code",
   "execution_count": 50,
   "metadata": {
    "collapsed": true
   },
   "outputs": [],
   "source": [
    "import sqlite3\n",
    "import pandas as pd\n",
    "\n",
    "def sqldata(query):\n",
    "    conn = sqlite3.connect('p3.db')\n",
    "    data = pd.read_sql_query(query, conn)\n",
    "    conn.close()\n",
    "    return data"
   ]
  },
  {
   "cell_type": "markdown",
   "metadata": {},
   "source": [
    "## Data Overview"
   ]
  },
  {
   "cell_type": "markdown",
   "metadata": {},
   "source": [
    "In this section, I'll execute a number of SQL queries in order to analyze the dataset. "
   ]
  },
  {
   "cell_type": "markdown",
   "metadata": {},
   "source": [
    "### File Sizes "
   ]
  },
  {
   "cell_type": "markdown",
   "metadata": {},
   "source": [
    "    south-bay_california.osm ......... 306 MB\n",
    "    p3.db ............................ 182 MB\n",
    "    nodes.csv ........................ 127 MB\n",
    "    nodes_tags.csv .................. 0.22 MB\n",
    "    ways.csv ......................... 9.0 MB\n",
    "    ways_tags.csv ................... 28.8 MB\n",
    "    ways_nodes.cv ..................... 37 MB "
   ]
  },
  {
   "cell_type": "markdown",
   "metadata": {},
   "source": [
    "### Number of Nodes "
   ]
  },
  {
   "cell_type": "code",
   "execution_count": 9,
   "metadata": {
    "collapsed": false
   },
   "outputs": [
    {
     "data": {
      "text/html": [
       "<div>\n",
       "<table border=\"1\" class=\"dataframe\">\n",
       "  <thead>\n",
       "    <tr style=\"text-align: right;\">\n",
       "      <th></th>\n",
       "      <th>COUNT(*)</th>\n",
       "    </tr>\n",
       "  </thead>\n",
       "  <tbody>\n",
       "    <tr>\n",
       "      <th>0</th>\n",
       "      <td>1360517</td>\n",
       "    </tr>\n",
       "  </tbody>\n",
       "</table>\n",
       "</div>"
      ],
      "text/plain": [
       "   COUNT(*)\n",
       "0   1360517"
      ]
     },
     "execution_count": 9,
     "metadata": {},
     "output_type": "execute_result"
    }
   ],
   "source": [
    "sqldata(\"SELECT COUNT(*) FROM nodes\")"
   ]
  },
  {
   "cell_type": "markdown",
   "metadata": {},
   "source": [
    "### Number of Ways"
   ]
  },
  {
   "cell_type": "code",
   "execution_count": 10,
   "metadata": {
    "collapsed": false
   },
   "outputs": [
    {
     "data": {
      "text/html": [
       "<div>\n",
       "<table border=\"1\" class=\"dataframe\">\n",
       "  <thead>\n",
       "    <tr style=\"text-align: right;\">\n",
       "      <th></th>\n",
       "      <th>COUNT(*)</th>\n",
       "    </tr>\n",
       "  </thead>\n",
       "  <tbody>\n",
       "    <tr>\n",
       "      <th>0</th>\n",
       "      <td>131835</td>\n",
       "    </tr>\n",
       "  </tbody>\n",
       "</table>\n",
       "</div>"
      ],
      "text/plain": [
       "   COUNT(*)\n",
       "0    131835"
      ]
     },
     "execution_count": 10,
     "metadata": {},
     "output_type": "execute_result"
    }
   ],
   "source": [
    "sqldata(\"SELECT COUNT(*) FROM ways\")"
   ]
  },
  {
   "cell_type": "markdown",
   "metadata": {},
   "source": [
    "### Number of Unique Users"
   ]
  },
  {
   "cell_type": "code",
   "execution_count": 17,
   "metadata": {
    "collapsed": false
   },
   "outputs": [
    {
     "data": {
      "text/html": [
       "<div>\n",
       "<table border=\"1\" class=\"dataframe\">\n",
       "  <thead>\n",
       "    <tr style=\"text-align: right;\">\n",
       "      <th></th>\n",
       "      <th>COUNT(*)</th>\n",
       "    </tr>\n",
       "  </thead>\n",
       "  <tbody>\n",
       "    <tr>\n",
       "      <th>0</th>\n",
       "      <td>325</td>\n",
       "    </tr>\n",
       "  </tbody>\n",
       "</table>\n",
       "</div>"
      ],
      "text/plain": [
       "   COUNT(*)\n",
       "0       325"
      ]
     },
     "execution_count": 17,
     "metadata": {},
     "output_type": "execute_result"
    }
   ],
   "source": [
    "sqldata(\"SELECT COUNT(*) FROM (SELECT user FROM ways UNION SELECT user FROM nodes);\")"
   ]
  },
  {
   "cell_type": "markdown",
   "metadata": {},
   "source": [
    "### Top 10 Contributing Users "
   ]
  },
  {
   "cell_type": "code",
   "execution_count": 29,
   "metadata": {
    "collapsed": false
   },
   "outputs": [
    {
     "data": {
      "text/html": [
       "<div>\n",
       "<table border=\"1\" class=\"dataframe\">\n",
       "  <thead>\n",
       "    <tr style=\"text-align: right;\">\n",
       "      <th></th>\n",
       "      <th>user</th>\n",
       "      <th>total_contributions</th>\n",
       "    </tr>\n",
       "  </thead>\n",
       "  <tbody>\n",
       "    <tr>\n",
       "      <th>0</th>\n",
       "      <td>Luis36995_labuildings</td>\n",
       "      <td>410843</td>\n",
       "    </tr>\n",
       "    <tr>\n",
       "      <th>1</th>\n",
       "      <td>dannykath_labuildings</td>\n",
       "      <td>186043</td>\n",
       "    </tr>\n",
       "    <tr>\n",
       "      <th>2</th>\n",
       "      <td>yurasi_import</td>\n",
       "      <td>145693</td>\n",
       "    </tr>\n",
       "    <tr>\n",
       "      <th>3</th>\n",
       "      <td>ridixcr_import</td>\n",
       "      <td>126491</td>\n",
       "    </tr>\n",
       "    <tr>\n",
       "      <th>4</th>\n",
       "      <td>schleuss_imports</td>\n",
       "      <td>115375</td>\n",
       "    </tr>\n",
       "    <tr>\n",
       "      <th>5</th>\n",
       "      <td>piligab_labuildings</td>\n",
       "      <td>112421</td>\n",
       "    </tr>\n",
       "    <tr>\n",
       "      <th>6</th>\n",
       "      <td>karitotp_labuildings</td>\n",
       "      <td>97870</td>\n",
       "    </tr>\n",
       "    <tr>\n",
       "      <th>7</th>\n",
       "      <td>RichRico_labuildings</td>\n",
       "      <td>83987</td>\n",
       "    </tr>\n",
       "    <tr>\n",
       "      <th>8</th>\n",
       "      <td>sctrojan79-import</td>\n",
       "      <td>57992</td>\n",
       "    </tr>\n",
       "    <tr>\n",
       "      <th>9</th>\n",
       "      <td>MtnBiker_import</td>\n",
       "      <td>17660</td>\n",
       "    </tr>\n",
       "  </tbody>\n",
       "</table>\n",
       "</div>"
      ],
      "text/plain": [
       "                    user  total_contributions\n",
       "0  Luis36995_labuildings               410843\n",
       "1  dannykath_labuildings               186043\n",
       "2          yurasi_import               145693\n",
       "3         ridixcr_import               126491\n",
       "4       schleuss_imports               115375\n",
       "5    piligab_labuildings               112421\n",
       "6   karitotp_labuildings                97870\n",
       "7   RichRico_labuildings                83987\n",
       "8      sctrojan79-import                57992\n",
       "9        MtnBiker_import                17660"
      ]
     },
     "execution_count": 29,
     "metadata": {},
     "output_type": "execute_result"
    }
   ],
   "source": [
    "sqldata(\"SELECT user, COUNT(*) as total_contributions FROM (SELECT user FROM ways UNION ALL SELECT user FROM nodes) GROUP BY user ORDER BY total_contributions DESC LIMIT 10\")"
   ]
  },
  {
   "cell_type": "markdown",
   "metadata": {},
   "source": [
    "### Number of Users with One Contribution"
   ]
  },
  {
   "cell_type": "code",
   "execution_count": 33,
   "metadata": {
    "collapsed": false
   },
   "outputs": [
    {
     "data": {
      "text/html": [
       "<div>\n",
       "<table border=\"1\" class=\"dataframe\">\n",
       "  <thead>\n",
       "    <tr style=\"text-align: right;\">\n",
       "      <th></th>\n",
       "      <th>COUNT(*)</th>\n",
       "    </tr>\n",
       "  </thead>\n",
       "  <tbody>\n",
       "    <tr>\n",
       "      <th>0</th>\n",
       "      <td>68</td>\n",
       "    </tr>\n",
       "  </tbody>\n",
       "</table>\n",
       "</div>"
      ],
      "text/plain": [
       "   COUNT(*)\n",
       "0        68"
      ]
     },
     "execution_count": 33,
     "metadata": {},
     "output_type": "execute_result"
    }
   ],
   "source": [
    "sqldata(\"SELECT COUNT(*) FROM (SELECT user, COUNT(*) as total_contributions FROM (SELECT user FROM ways UNION ALL SELECT user FROM nodes) GROUP BY user HAVING total_contributions=1)\")"
   ]
  },
  {
   "cell_type": "markdown",
   "metadata": {},
   "source": [
    "### Top 10 Types of Restaurants"
   ]
  },
  {
   "cell_type": "code",
   "execution_count": 66,
   "metadata": {
    "collapsed": false
   },
   "outputs": [
    {
     "data": {
      "text/html": [
       "<div>\n",
       "<table border=\"1\" class=\"dataframe\">\n",
       "  <thead>\n",
       "    <tr style=\"text-align: right;\">\n",
       "      <th></th>\n",
       "      <th>value</th>\n",
       "      <th>total</th>\n",
       "    </tr>\n",
       "  </thead>\n",
       "  <tbody>\n",
       "    <tr>\n",
       "      <th>0</th>\n",
       "      <td>american</td>\n",
       "      <td>9</td>\n",
       "    </tr>\n",
       "    <tr>\n",
       "      <th>1</th>\n",
       "      <td>chinese</td>\n",
       "      <td>6</td>\n",
       "    </tr>\n",
       "    <tr>\n",
       "      <th>2</th>\n",
       "      <td>coffee_shop</td>\n",
       "      <td>5</td>\n",
       "    </tr>\n",
       "    <tr>\n",
       "      <th>3</th>\n",
       "      <td>mexican</td>\n",
       "      <td>5</td>\n",
       "    </tr>\n",
       "    <tr>\n",
       "      <th>4</th>\n",
       "      <td>pizza</td>\n",
       "      <td>5</td>\n",
       "    </tr>\n",
       "    <tr>\n",
       "      <th>5</th>\n",
       "      <td>burger</td>\n",
       "      <td>4</td>\n",
       "    </tr>\n",
       "    <tr>\n",
       "      <th>6</th>\n",
       "      <td>chicken</td>\n",
       "      <td>2</td>\n",
       "    </tr>\n",
       "    <tr>\n",
       "      <th>7</th>\n",
       "      <td>sandwich</td>\n",
       "      <td>2</td>\n",
       "    </tr>\n",
       "    <tr>\n",
       "      <th>8</th>\n",
       "      <td>Baked_Goods</td>\n",
       "      <td>1</td>\n",
       "    </tr>\n",
       "    <tr>\n",
       "      <th>9</th>\n",
       "      <td>Frozen_Yogurt,_Desert,ice cream</td>\n",
       "      <td>1</td>\n",
       "    </tr>\n",
       "  </tbody>\n",
       "</table>\n",
       "</div>"
      ],
      "text/plain": [
       "                             value  total\n",
       "0                         american      9\n",
       "1                          chinese      6\n",
       "2                      coffee_shop      5\n",
       "3                          mexican      5\n",
       "4                            pizza      5\n",
       "5                           burger      4\n",
       "6                          chicken      2\n",
       "7                         sandwich      2\n",
       "8                      Baked_Goods      1\n",
       "9  Frozen_Yogurt,_Desert,ice cream      1"
      ]
     },
     "execution_count": 66,
     "metadata": {},
     "output_type": "execute_result"
    }
   ],
   "source": [
    "sqldata(\"SELECT value, COUNT(*) as total FROM nodes_tags WHERE key = 'cuisine' GROUP BY value ORDER BY total DESC LIMIT 10\")"
   ]
  },
  {
   "cell_type": "markdown",
   "metadata": {},
   "source": [
    "### Religious Representation"
   ]
  },
  {
   "cell_type": "code",
   "execution_count": 67,
   "metadata": {
    "collapsed": false
   },
   "outputs": [
    {
     "data": {
      "text/html": [
       "<div>\n",
       "<table border=\"1\" class=\"dataframe\">\n",
       "  <thead>\n",
       "    <tr style=\"text-align: right;\">\n",
       "      <th></th>\n",
       "      <th>value</th>\n",
       "      <th>total</th>\n",
       "    </tr>\n",
       "  </thead>\n",
       "  <tbody>\n",
       "    <tr>\n",
       "      <th>0</th>\n",
       "      <td>christian</td>\n",
       "      <td>62</td>\n",
       "    </tr>\n",
       "    <tr>\n",
       "      <th>1</th>\n",
       "      <td>buddhist</td>\n",
       "      <td>1</td>\n",
       "    </tr>\n",
       "    <tr>\n",
       "      <th>2</th>\n",
       "      <td>muslim</td>\n",
       "      <td>1</td>\n",
       "    </tr>\n",
       "  </tbody>\n",
       "</table>\n",
       "</div>"
      ],
      "text/plain": [
       "       value  total\n",
       "0  christian     62\n",
       "1   buddhist      1\n",
       "2     muslim      1"
      ]
     },
     "execution_count": 67,
     "metadata": {},
     "output_type": "execute_result"
    }
   ],
   "source": [
    "sqldata(\"SELECT value, COUNT(*) as total FROM nodes_tags WHERE key = 'religion' GROUP BY value ORDER BY total DESC LIMIT 10\")"
   ]
  },
  {
   "cell_type": "markdown",
   "metadata": {},
   "source": [
    "### Top 10 Type of Places"
   ]
  },
  {
   "cell_type": "code",
   "execution_count": 90,
   "metadata": {
    "collapsed": false
   },
   "outputs": [
    {
     "data": {
      "text/html": [
       "<div>\n",
       "<table border=\"1\" class=\"dataframe\">\n",
       "  <thead>\n",
       "    <tr style=\"text-align: right;\">\n",
       "      <th></th>\n",
       "      <th>value</th>\n",
       "      <th>total</th>\n",
       "    </tr>\n",
       "  </thead>\n",
       "  <tbody>\n",
       "    <tr>\n",
       "      <th>0</th>\n",
       "      <td>school</td>\n",
       "      <td>74</td>\n",
       "    </tr>\n",
       "    <tr>\n",
       "      <th>1</th>\n",
       "      <td>restaurant</td>\n",
       "      <td>70</td>\n",
       "    </tr>\n",
       "    <tr>\n",
       "      <th>2</th>\n",
       "      <td>place_of_worship</td>\n",
       "      <td>66</td>\n",
       "    </tr>\n",
       "    <tr>\n",
       "      <th>3</th>\n",
       "      <td>fast_food</td>\n",
       "      <td>34</td>\n",
       "    </tr>\n",
       "    <tr>\n",
       "      <th>4</th>\n",
       "      <td>cafe</td>\n",
       "      <td>25</td>\n",
       "    </tr>\n",
       "    <tr>\n",
       "      <th>5</th>\n",
       "      <td>drinking_water</td>\n",
       "      <td>12</td>\n",
       "    </tr>\n",
       "    <tr>\n",
       "      <th>6</th>\n",
       "      <td>library</td>\n",
       "      <td>12</td>\n",
       "    </tr>\n",
       "    <tr>\n",
       "      <th>7</th>\n",
       "      <td>bank</td>\n",
       "      <td>10</td>\n",
       "    </tr>\n",
       "    <tr>\n",
       "      <th>8</th>\n",
       "      <td>bench</td>\n",
       "      <td>10</td>\n",
       "    </tr>\n",
       "    <tr>\n",
       "      <th>9</th>\n",
       "      <td>pharmacy</td>\n",
       "      <td>9</td>\n",
       "    </tr>\n",
       "  </tbody>\n",
       "</table>\n",
       "</div>"
      ],
      "text/plain": [
       "              value  total\n",
       "0            school     74\n",
       "1        restaurant     70\n",
       "2  place_of_worship     66\n",
       "3         fast_food     34\n",
       "4              cafe     25\n",
       "5    drinking_water     12\n",
       "6           library     12\n",
       "7              bank     10\n",
       "8             bench     10\n",
       "9          pharmacy      9"
      ]
     },
     "execution_count": 90,
     "metadata": {},
     "output_type": "execute_result"
    }
   ],
   "source": [
    "sqldata(\"SELECT value, COUNT(*) as total FROM nodes_tags WHERE key='amenity' GROUP BY value ORDER BY total DESC LIMIT 10;\")"
   ]
  },
  {
   "cell_type": "markdown",
   "metadata": {},
   "source": [
    "## Potential Additional Improvements  "
   ]
  },
  {
   "cell_type": "markdown",
   "metadata": {},
   "source": [
    "**Increasing Submissions**\n",
    "\n",
    "Going through this dataset, my concerns were less with the cleanliness of the data - as I found it surprisingly clean - and more with the lack of data. This part of Los Angeles is too big to have as little information as it does. I think OpenStreetMap can go a long way in developing their map database if they took on certain initiative to increase engagement with their service. \n",
    "\n",
    "- One possible initiative would be for OpenStreetMap to form partnerships with educational institutions such as schools, or maybe libraries, to engage students with their service. As a way to develop computer and internet literacy, computer-related courses can teach students how to use OpenStreetMap. It'll expose them to online maps, GPS technology, how to participate in open source projects, and more - all while adding data to a free resource that could benefit the members of the community and the world.\n",
    "\n",
    "\n",
    "- *Anticipated Problem*: However, the concern here is that you might see an influx of dirty, unreliable data, particularly if the people behind them aren't very computer literate or only participating because it's a mandatory portion of a course. Naturally the data that come from volunteers who get involved because of their genuine passion for the project would be of higher quality.\n",
    "\n",
    "**Ensuring Data Consistency**\n",
    "\n",
    "- For data improvement, the biggest problem I came across my data before I cleaned it was the lack of a unified format for street types or phone numbers, or simply incomplete information. If OpenStreetMap had a hard format that street types, phone numbers, zip codes, etc. should follow - and they ensured the format is appropriate for the city/country - there would be much cleaner data for analysis.\n",
    "\n",
    "\n",
    "- *Anticipated Problem*: The issue here is that you could very likely see a decrease in submissions due to the stricter guidelines. "
   ]
  },
  {
   "cell_type": "markdown",
   "metadata": {},
   "source": [
    "## Conclusion"
   ]
  },
  {
   "cell_type": "markdown",
   "metadata": {},
   "source": [
    "It's clear from what we've seen that the Beach Cities OpenStretMap data is still very much incomplete. It isn't entirely surprising, as these areas do not match the size and popularity of other parts of Los Angeles - i.e. Santa Monica, Downtown LA - but there is still much in these cities to be found and explored. The upside is that a lot of the data that has been entered is fairly clean, so future OSM users who embark on the task of improving the dataset with new information won't have much to worry about with regards to cleaning prior submissions. I'm looking forward to seeing how the data for the area grows overtime, and I hope to also play a role in that mission myself. "
   ]
  },
  {
   "cell_type": "code",
   "execution_count": null,
   "metadata": {
    "collapsed": true
   },
   "outputs": [],
   "source": []
  }
 ],
 "metadata": {
  "anaconda-cloud": {},
  "kernelspec": {
   "display_name": "Python [conda env:DAND]",
   "language": "python",
   "name": "conda-env-DAND-py"
  },
  "language_info": {
   "codemirror_mode": {
    "name": "ipython",
    "version": 2
   },
   "file_extension": ".py",
   "mimetype": "text/x-python",
   "name": "python",
   "nbconvert_exporter": "python",
   "pygments_lexer": "ipython2",
   "version": "2.7.12"
  }
 },
 "nbformat": 4,
 "nbformat_minor": 2
}
